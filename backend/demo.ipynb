{
 "cells": [
  {
   "cell_type": "code",
   "execution_count": 10,
   "metadata": {},
   "outputs": [],
   "source": [
    "import requests\n",
    "import pandas as pd\n",
    "from IPython.display import display\n",
    "# Base URL of your API\n",
    "API = 'http://localhost:8000'"
   ]
  },
  {
   "cell_type": "code",
   "execution_count": 11,
   "metadata": {},
   "outputs": [
    {
     "name": "stdout",
     "output_type": "stream",
     "text": [
      "Uploaded document, got document_id: 78ed7ff4-240a-4756-b6bd-9aeaa09c8df7, message Document uploaded successfully\n"
     ]
    }
   ],
   "source": [
    "# upload a document\n",
    "\n",
    "# file ref is the absolut path to the file\n",
    "\n",
    "resp = requests.post(\n",
    "    f\"{API}/upload-document\",\n",
    "    json={\"file_ref\": \"/Users/antonwiklund/ai-task/backend/data/Bellring Brands/txt/BellringBrandsInc_20190920_S-1_EX-10.12_11817081_EX-10.12_Manufacturing Agreement3.txt\"}\n",
    ")\n",
    "resp.raise_for_status()\n",
    "upload_data = resp.json()\n",
    "document_id_1 = upload_data['document_id']\n",
    "print(f\"Uploaded document, got document_id: {document_id_1}, message {upload_data['message']}\")"
   ]
  },
  {
   "cell_type": "code",
   "execution_count": 12,
   "metadata": {},
   "outputs": [
    {
     "name": "stdout",
     "output_type": "stream",
     "text": [
      "Uploaded document, got document_id: ef37a756-f764-46cc-9375-4e36036aad26, message Document uploaded successfully\n"
     ]
    }
   ],
   "source": [
    "# upload another document\n",
    "\n",
    "resp = requests.post(\n",
    "    f\"{API}/upload-document\",\n",
    "    json={\"file_ref\": \"/Users/antonwiklund/ai-task/backend/data/AzulSa/txt/AzulSa_20170303_F-1A_EX-10.3_9943903_EX-10.3_Maintenance Agreement2.txt\"}\n",
    ")\n",
    "resp.raise_for_status()\n",
    "upload_data = resp.json()\n",
    "document_id_2 = upload_data['document_id']\n",
    "print(f\"Uploaded document, got document_id: {document_id_2}, message {upload_data['message']}\")"
   ]
  },
  {
   "cell_type": "code",
   "execution_count": 13,
   "metadata": {},
   "outputs": [
    {
     "name": "stdout",
     "output_type": "stream",
     "text": [
      "Created column, got column_id: d63d6ea1-7264-4581-af86-6e3d606e907f\n"
     ]
    }
   ],
   "source": [
    "# create columns\n",
    "\n",
    "column_payload = {\n",
    "    \"label\": \"Agreement date\",\n",
    "    \"prompt\": \"What is the date when the agreement went into force?\",\n",
    "    \"format\": \"date\"\n",
    "}\n",
    "resp = requests.post(f\"{API}/columns\", json=column_payload)\n",
    "resp.raise_for_status()\n",
    "column_id = resp.json()['column_id']\n",
    "print(f\"Created column, got column_id: {column_id}\")"
   ]
  },
  {
   "cell_type": "code",
   "execution_count": 14,
   "metadata": {},
   "outputs": [
    {
     "name": "stdout",
     "output_type": "stream",
     "text": [
      "Created row, got row_id: f5dfda97-756f-4014-9e7a-720420e8110f\n"
     ]
    }
   ],
   "source": [
    "# create a row\n",
    "row_payload = {\n",
    "    \"document_ids\": [document_id_1, document_id_2]\n",
    "}\n",
    "resp = requests.post(f\"{API}/rows\", json=row_payload)\n",
    "resp.raise_for_status()\n",
    "row_id = resp.json()['row_id']\n",
    "print(f\"Created row, got row_id: {row_id}\")"
   ]
  },
  {
   "cell_type": "code",
   "execution_count": 18,
   "metadata": {},
   "outputs": [
    {
     "ename": "HTTPError",
     "evalue": "500 Server Error: Internal Server Error for url: http://localhost:8000/answer",
     "output_type": "error",
     "traceback": [
      "\u001b[31m---------------------------------------------------------------------------\u001b[39m",
      "\u001b[31mHTTPError\u001b[39m                                 Traceback (most recent call last)",
      "\u001b[36mCell\u001b[39m\u001b[36m \u001b[39m\u001b[32mIn[18]\u001b[39m\u001b[32m, line 8\u001b[39m\n\u001b[32m      2\u001b[39m batch_payload = {\n\u001b[32m      3\u001b[39m     \u001b[33m\"\u001b[39m\u001b[33mitems\u001b[39m\u001b[33m\"\u001b[39m: [\n\u001b[32m      4\u001b[39m         {\u001b[33m\"\u001b[39m\u001b[33mrow_id\u001b[39m\u001b[33m\"\u001b[39m: row_id, \u001b[33m\"\u001b[39m\u001b[33mcolumn_id\u001b[39m\u001b[33m\"\u001b[39m: column_id}\n\u001b[32m      5\u001b[39m     ]\n\u001b[32m      6\u001b[39m }\n\u001b[32m      7\u001b[39m resp = requests.post(\u001b[33mf\u001b[39m\u001b[33m\"\u001b[39m\u001b[38;5;132;01m{\u001b[39;00mAPI\u001b[38;5;132;01m}\u001b[39;00m\u001b[33m/answer\u001b[39m\u001b[33m\"\u001b[39m, json=batch_payload)\n\u001b[32m----> \u001b[39m\u001b[32m8\u001b[39m \u001b[43mresp\u001b[49m\u001b[43m.\u001b[49m\u001b[43mraise_for_status\u001b[49m\u001b[43m(\u001b[49m\u001b[43m)\u001b[49m\n\u001b[32m      9\u001b[39m answer_data_for_table = resp.json()\n\u001b[32m     10\u001b[39m \u001b[38;5;28mprint\u001b[39m(\u001b[33m\"\u001b[39m\u001b[33mBatch Answer Response:\u001b[39m\u001b[33m\"\u001b[39m, answer_data_for_table)\n",
      "\u001b[36mFile \u001b[39m\u001b[32m~/ai-task/.venv/lib/python3.11/site-packages/requests/models.py:1024\u001b[39m, in \u001b[36mResponse.raise_for_status\u001b[39m\u001b[34m(self)\u001b[39m\n\u001b[32m   1019\u001b[39m     http_error_msg = (\n\u001b[32m   1020\u001b[39m         \u001b[33mf\u001b[39m\u001b[33m\"\u001b[39m\u001b[38;5;132;01m{\u001b[39;00m\u001b[38;5;28mself\u001b[39m.status_code\u001b[38;5;132;01m}\u001b[39;00m\u001b[33m Server Error: \u001b[39m\u001b[38;5;132;01m{\u001b[39;00mreason\u001b[38;5;132;01m}\u001b[39;00m\u001b[33m for url: \u001b[39m\u001b[38;5;132;01m{\u001b[39;00m\u001b[38;5;28mself\u001b[39m.url\u001b[38;5;132;01m}\u001b[39;00m\u001b[33m\"\u001b[39m\n\u001b[32m   1021\u001b[39m     )\n\u001b[32m   1023\u001b[39m \u001b[38;5;28;01mif\u001b[39;00m http_error_msg:\n\u001b[32m-> \u001b[39m\u001b[32m1024\u001b[39m     \u001b[38;5;28;01mraise\u001b[39;00m HTTPError(http_error_msg, response=\u001b[38;5;28mself\u001b[39m)\n",
      "\u001b[31mHTTPError\u001b[39m: 500 Server Error: Internal Server Error for url: http://localhost:8000/answer"
     ]
    }
   ],
   "source": [
    "# batch call to /answer endpoint and store result\n",
    "batch_payload = {\n",
    "    \"items\": [\n",
    "        {\"row_id\": row_id, \"column_id\": column_id}\n",
    "    ]\n",
    "}\n",
    "resp = requests.post(f\"{API}/answer\", json=batch_payload)\n",
    "resp.raise_for_status()\n",
    "answer_data_for_table = resp.json()\n",
    "print(\"Batch Answer Response:\", answer_data_for_table)"
   ]
  },
  {
   "cell_type": "code",
   "execution_count": 19,
   "metadata": {},
   "outputs": [
    {
     "name": "stdout",
     "output_type": "stream",
     "text": [
      "Current Processed Table:\n"
     ]
    },
    {
     "data": {
      "text/html": [
       "<div>\n",
       "<style scoped>\n",
       "    .dataframe tbody tr th:only-of-type {\n",
       "        vertical-align: middle;\n",
       "    }\n",
       "\n",
       "    .dataframe tbody tr th {\n",
       "        vertical-align: top;\n",
       "    }\n",
       "\n",
       "    .dataframe thead th {\n",
       "        text-align: right;\n",
       "    }\n",
       "</style>\n",
       "<table border=\"1\" class=\"dataframe\">\n",
       "  <thead>\n",
       "    <tr style=\"text-align: right;\">\n",
       "      <th></th>\n",
       "      <th>Row ID</th>\n",
       "      <th>Document ID(s)</th>\n",
       "      <th>Prompt</th>\n",
       "      <th>Format</th>\n",
       "      <th>Agreement date</th>\n",
       "    </tr>\n",
       "  </thead>\n",
       "  <tbody>\n",
       "    <tr>\n",
       "      <th>0</th>\n",
       "      <td>f5dfda97-756f-4014-9e7a-720420e8110f</td>\n",
       "      <td>78ed7ff4-240a-4756-b6bd-9aeaa09c8df7, ef37a756...</td>\n",
       "      <td>What is the date when the agreement went into ...</td>\n",
       "      <td>date</td>\n",
       "      <td>2016-01-06</td>\n",
       "    </tr>\n",
       "  </tbody>\n",
       "</table>\n",
       "</div>"
      ],
      "text/plain": [
       "                                 Row ID  \\\n",
       "0  f5dfda97-756f-4014-9e7a-720420e8110f   \n",
       "\n",
       "                                      Document ID(s)  \\\n",
       "0  78ed7ff4-240a-4756-b6bd-9aeaa09c8df7, ef37a756...   \n",
       "\n",
       "                                              Prompt Format Agreement date  \n",
       "0  What is the date when the agreement went into ...   date     2016-01-06  "
      ]
     },
     "metadata": {},
     "output_type": "display_data"
    }
   ],
   "source": [
    "column_label_val = 'Unknown Column' # Default value\n",
    "prompt_val = 'N/A'\n",
    "format_val = 'N/A'\n",
    "\n",
    "if 'column_payload' in locals() and isinstance(column_payload, dict):\n",
    "    column_label_val = column_payload.get('label', 'Unknown Column')\n",
    "    prompt_val = column_payload.get('prompt', 'N/A')\n",
    "    format_val = column_payload.get('format', 'N/A')\n",
    "\n",
    "cell_value_val = \"N/A (Run previous cell or no answer found)\" # Default value\n",
    "if 'answer_data_for_table' in locals() and isinstance(answer_data_for_table, dict) and answer_data_for_table.get('results'):\n",
    "    if len(answer_data_for_table['results']) > 0:\n",
    "        answer_item = answer_data_for_table['results'][0] # Demo sends one item\n",
    "        cell_value_val = answer_item['answer']\n",
    "\n",
    "row_id_val = str(row_id) if 'row_id' in locals() else 'N/A'\n",
    "\n",
    "if 'row_payload' in locals() and isinstance(row_payload, dict) and 'document_ids' in row_payload:\n",
    "    actual_document_ids_for_row = row_payload.get('document_ids', [])\n",
    "    document_id_val = ', '.join(map(str, actual_document_ids_for_row)) if actual_document_ids_for_row else 'N/A'\n",
    "else:\n",
    "    document_id_val = 'N/A (row_payload not available or malformed)'\n",
    "\n",
    "table_display_data = {\n",
    "    'Row ID': [row_id_val],\n",
    "    'Document ID(s)': [document_id_val],\n",
    "    column_label_val: [cell_value_val],\n",
    "    'Prompt': [prompt_val],\n",
    "    'Format': [format_val]\n",
    "}\n",
    "\n",
    "# Reordering columns for better readability\n",
    "df_result_table = pd.DataFrame(table_display_data)\n",
    "desired_order = ['Row ID', 'Document ID(s)', 'Prompt', 'Format', column_label_val]\n",
    "# Ensure all desired columns are present, add if missing (e.g. if column_label_val is new)\n",
    "for col in desired_order:\n",
    "    if col not in df_result_table.columns:\n",
    "        df_result_table[col] = 'N/A' # or some other default\n",
    "df_result_table = df_result_table[desired_order]\n",
    "\n",
    "\n",
    "print(\"Current Processed Table:\")\n",
    "display(df_result_table)"
   ]
  },
  {
   "cell_type": "code",
   "execution_count": null,
   "metadata": {},
   "outputs": [],
   "source": []
  }
 ],
 "metadata": {
  "kernelspec": {
   "display_name": ".venv",
   "language": "python",
   "name": "python3"
  },
  "language_info": {
   "codemirror_mode": {
    "name": "ipython",
    "version": 3
   },
   "file_extension": ".py",
   "mimetype": "text/x-python",
   "name": "python",
   "nbconvert_exporter": "python",
   "pygments_lexer": "ipython3",
   "version": "3.11.6"
  }
 },
 "nbformat": 4,
 "nbformat_minor": 2
}
