{
 "cells": [
  {
   "cell_type": "code",
   "execution_count": 10,
   "metadata": {},
   "outputs": [],
   "source": [
    "import requests\n",
    "import pandas as pd\n",
    "from IPython.display import display\n",
    "# Base URL of your API\n",
    "API = 'http://localhost:8000'"
   ]
  },
  {
   "cell_type": "code",
   "execution_count": null,
   "metadata": {},
   "outputs": [],
   "source": [
    "# upload a document\n",
    "\n",
    "# file ref is the absolut path to the file\n",
    "\n",
    "resp = requests.post(\n",
    "    f\"{API}/upload-document\",\n",
    "    json={\"file_ref\": \"/Users/antonwiklund/ai-task/backend/data/Bellring Brands/txt/BellringBrandsInc_20190920_S-1_EX-10.12_11817081_EX-10.12_Manufacturing Agreement3.txt\"}\n",
    ")\n",
    "resp.raise_for_status()\n",
    "upload_data = resp.json()\n",
    "document_id_1 = upload_data['document_id']\n",
    "print(f\"Uploaded document, got document_id: {document_id_1}, message {upload_data['message']}\")"
   ]
  },
  {
   "cell_type": "code",
   "execution_count": null,
   "metadata": {},
   "outputs": [],
   "source": [
    "# upload another document\n",
    "\n",
    "resp = requests.post(\n",
    "    f\"{API}/upload-document\",\n",
    "    json={\"file_ref\": \"/Users/antonwiklund/ai-task/backend/data/AzulSa/txt/AzulSa_20170303_F-1A_EX-10.3_9943903_EX-10.3_Maintenance Agreement2.txt\"}\n",
    ")\n",
    "resp.raise_for_status()\n",
    "upload_data = resp.json()\n",
    "document_id_2 = upload_data['document_id']\n",
    "print(f\"Uploaded document, got document_id: {document_id_2}, message {upload_data['message']}\")"
   ]
  },
  {
   "cell_type": "code",
   "execution_count": null,
   "metadata": {},
   "outputs": [],
   "source": [
    "# create columns\n",
    "\n",
    "column_payload = {\n",
    "    \"label\": \"Agreement date\",\n",
    "    \"prompt\": \"What is the date when the agreement went into force?\",\n",
    "    \"format\": \"date\"\n",
    "}\n",
    "resp = requests.post(f\"{API}/columns\", json=column_payload)\n",
    "resp.raise_for_status()\n",
    "column_id = resp.json()['column_id']\n",
    "print(f\"Created column, got column_id: {column_id}\")"
   ]
  },
  {
   "cell_type": "code",
   "execution_count": null,
   "metadata": {},
   "outputs": [],
   "source": [
    "# create a row\n",
    "row_payload = {\n",
    "    \"document_ids\": [document_id_1, document_id_2]\n",
    "}\n",
    "resp = requests.post(f\"{API}/rows\", json=row_payload)\n",
    "resp.raise_for_status()\n",
    "row_id = resp.json()['row_id']\n",
    "print(f\"Created row, got row_id: {row_id}\")"
   ]
  },
  {
   "cell_type": "code",
   "execution_count": null,
   "metadata": {},
   "outputs": [],
   "source": [
    "# batch call to /answer endpoint and store result\n",
    "batch_payload = {\n",
    "    \"items\": [\n",
    "        {\"row_id\": row_id, \"column_id\": column_id}\n",
    "    ]\n",
    "}\n",
    "resp = requests.post(f\"{API}/answer\", json=batch_payload)\n",
    "resp.raise_for_status()\n",
    "answer_data_for_table = resp.json()\n",
    "print(\"Batch Answer Response:\", answer_data_for_table)"
   ]
  },
  {
   "cell_type": "code",
   "execution_count": null,
   "metadata": {},
   "outputs": [],
   "source": [
    "column_label_val = 'Unknown Column' # Default value\n",
    "prompt_val = 'N/A'\n",
    "format_val = 'N/A'\n",
    "\n",
    "if 'column_payload' in locals() and isinstance(column_payload, dict):\n",
    "    column_label_val = column_payload.get('label', 'Unknown Column')\n",
    "    prompt_val = column_payload.get('prompt', 'N/A')\n",
    "    format_val = column_payload.get('format', 'N/A')\n",
    "\n",
    "cell_value_val = \"N/A (Run previous cell or no answer found)\" # Default value\n",
    "if 'answer_data_for_table' in locals() and isinstance(answer_data_for_table, dict) and answer_data_for_table.get('results'):\n",
    "    if len(answer_data_for_table['results']) > 0:\n",
    "        answer_item = answer_data_for_table['results'][0] # Demo sends one item\n",
    "        cell_value_val = answer_item['answer']\n",
    "\n",
    "row_id_val = str(row_id) if 'row_id' in locals() else 'N/A'\n",
    "\n",
    "if 'row_payload' in locals() and isinstance(row_payload, dict) and 'document_ids' in row_payload:\n",
    "    actual_document_ids_for_row = row_payload.get('document_ids', [])\n",
    "    document_id_val = ', '.join(map(str, actual_document_ids_for_row)) if actual_document_ids_for_row else 'N/A'\n",
    "else:\n",
    "    document_id_val = 'N/A (row_payload not available or malformed)'\n",
    "\n",
    "table_display_data = {\n",
    "    'Row ID': [row_id_val],\n",
    "    'Document ID(s)': [document_id_val],\n",
    "    column_label_val: [cell_value_val],\n",
    "    'Prompt': [prompt_val],\n",
    "    'Format': [format_val]\n",
    "}\n",
    "\n",
    "# Reordering columns for better readability\n",
    "df_result_table = pd.DataFrame(table_display_data)\n",
    "desired_order = ['Row ID', 'Document ID(s)', 'Prompt', 'Format', column_label_val]\n",
    "# Ensure all desired columns are present, add if missing (e.g. if column_label_val is new)\n",
    "for col in desired_order:\n",
    "    if col not in df_result_table.columns:\n",
    "        df_result_table[col] = 'N/A' # or some other default\n",
    "df_result_table = df_result_table[desired_order]\n",
    "\n",
    "\n",
    "print(\"Current Processed Table:\")\n",
    "display(df_result_table)"
   ]
  },
  {
   "cell_type": "code",
   "execution_count": null,
   "metadata": {},
   "outputs": [],
   "source": []
  }
 ],
 "metadata": {
  "kernelspec": {
   "display_name": ".venv",
   "language": "python",
   "name": "python3"
  },
  "language_info": {
   "codemirror_mode": {
    "name": "ipython",
    "version": 3
   },
   "file_extension": ".py",
   "mimetype": "text/x-python",
   "name": "python",
   "nbconvert_exporter": "python",
   "pygments_lexer": "ipython3",
   "version": "3.11.6"
  }
 },
 "nbformat": 4,
 "nbformat_minor": 2
}
